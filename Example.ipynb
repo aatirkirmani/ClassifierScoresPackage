{
  "nbformat": 4,
  "nbformat_minor": 0,
  "metadata": {
    "colab": {
      "name": "Example.ipynb",
      "provenance": []
    },
    "kernelspec": {
      "name": "python3",
      "display_name": "Python 3"
    },
    "language_info": {
      "name": "python"
    }
  },
  "cells": [
    {
      "cell_type": "code",
      "metadata": {
        "id": "KEHiOm5AjZqR"
      },
      "source": [
        "import pandas as pd\n",
        "data = pd.read_csv('/content/data_cleaned 2.csv')"
      ],
      "execution_count": 1,
      "outputs": []
    },
    {
      "cell_type": "code",
      "metadata": {
        "id": "a64IFFsjjtT9"
      },
      "source": [
        "X = data.drop('Survived', axis = 1)\n",
        "y = data['Survived']"
      ],
      "execution_count": 3,
      "outputs": []
    },
    {
      "cell_type": "code",
      "metadata": {
        "id": "2bFewVkTjLG0"
      },
      "source": [
        "from sklearn.model_selection import train_test_split\n",
        "X_train, X_val, y_train, y_val = train_test_split(X, y, stratify = y)"
      ],
      "execution_count": 4,
      "outputs": []
    },
    {
      "cell_type": "code",
      "metadata": {
        "id": "_uDhrGJKj793",
        "colab": {
          "base_uri": "https://localhost:8080/"
        },
        "outputId": "5615e5b3-51ba-4ce1-b409-477b213ec303"
      },
      "source": [
        "!pip install classifierscores"
      ],
      "execution_count": 5,
      "outputs": [
        {
          "output_type": "stream",
          "name": "stdout",
          "text": [
            "Collecting classifierscores\n",
            "  Downloading classifierscores-0.0.2.tar.gz (3.2 kB)\n",
            "Building wheels for collected packages: classifierscores\n",
            "  Building wheel for classifierscores (setup.py) ... \u001b[?25l\u001b[?25hdone\n",
            "  Created wheel for classifierscores: filename=classifierscores-0.0.2-py3-none-any.whl size=3399 sha256=a713406977b468c1f4a74abc9db801f1ed810accf7b858ea7c254dc770a5134c\n",
            "  Stored in directory: /root/.cache/pip/wheels/14/4f/3f/94cf9458c23bf84f241133678fb11aa347832211c7ed8ea222\n",
            "Successfully built classifierscores\n",
            "Installing collected packages: classifierscores\n",
            "Successfully installed classifierscores-0.0.2\n"
          ]
        }
      ]
    },
    {
      "cell_type": "code",
      "metadata": {
        "id": "D2REqVmyrEbu"
      },
      "source": [
        "from classifierscores import model_check"
      ],
      "execution_count": 6,
      "outputs": []
    },
    {
      "cell_type": "code",
      "metadata": {
        "colab": {
          "base_uri": "https://localhost:8080/",
          "height": 234
        },
        "id": "wZEaLrBXrg-I",
        "outputId": "6e5312dd-e404-4073-d713-182ab89e9f36"
      },
      "source": [
        "model_check(X_train, y_train, X_val, y_val)"
      ],
      "execution_count": 7,
      "outputs": [
        {
          "output_type": "execute_result",
          "data": {
            "text/html": [
              "<div>\n",
              "<style scoped>\n",
              "    .dataframe tbody tr th:only-of-type {\n",
              "        vertical-align: middle;\n",
              "    }\n",
              "\n",
              "    .dataframe tbody tr th {\n",
              "        vertical-align: top;\n",
              "    }\n",
              "\n",
              "    .dataframe thead th {\n",
              "        text-align: right;\n",
              "    }\n",
              "</style>\n",
              "<table border=\"1\" class=\"dataframe\">\n",
              "  <thead>\n",
              "    <tr style=\"text-align: right;\">\n",
              "      <th></th>\n",
              "      <th>Model</th>\n",
              "      <th>train_accuracy</th>\n",
              "      <th>val_accuracy</th>\n",
              "      <th>train_precision</th>\n",
              "      <th>val_precision</th>\n",
              "      <th>train_recall</th>\n",
              "      <th>val_recall</th>\n",
              "      <th>train_f1</th>\n",
              "      <th>val_f1</th>\n",
              "      <th>train_auc</th>\n",
              "      <th>val_auc</th>\n",
              "      <th>total_time</th>\n",
              "    </tr>\n",
              "  </thead>\n",
              "  <tbody>\n",
              "    <tr>\n",
              "      <th>0</th>\n",
              "      <td>LogisticRegression</td>\n",
              "      <td>0.812874</td>\n",
              "      <td>0.807175</td>\n",
              "      <td>0.722656</td>\n",
              "      <td>0.686047</td>\n",
              "      <td>0.774059</td>\n",
              "      <td>0.786667</td>\n",
              "      <td>0.747475</td>\n",
              "      <td>0.732919</td>\n",
              "      <td>0.804279</td>\n",
              "      <td>0.802117</td>\n",
              "      <td>0.052866</td>\n",
              "    </tr>\n",
              "    <tr>\n",
              "      <th>1</th>\n",
              "      <td>DecisionTreeClassifier</td>\n",
              "      <td>0.983533</td>\n",
              "      <td>0.807175</td>\n",
              "      <td>0.964844</td>\n",
              "      <td>0.720930</td>\n",
              "      <td>0.991968</td>\n",
              "      <td>0.765432</td>\n",
              "      <td>0.978218</td>\n",
              "      <td>0.742515</td>\n",
              "      <td>0.985244</td>\n",
              "      <td>0.798209</td>\n",
              "      <td>0.006100</td>\n",
              "    </tr>\n",
              "    <tr>\n",
              "      <th>2</th>\n",
              "      <td>KNeighborsClassifier</td>\n",
              "      <td>0.815868</td>\n",
              "      <td>0.708520</td>\n",
              "      <td>0.714844</td>\n",
              "      <td>0.593023</td>\n",
              "      <td>0.785408</td>\n",
              "      <td>0.629630</td>\n",
              "      <td>0.748466</td>\n",
              "      <td>0.610778</td>\n",
              "      <td>0.808796</td>\n",
              "      <td>0.691575</td>\n",
              "      <td>0.058126</td>\n",
              "    </tr>\n",
              "    <tr>\n",
              "      <th>3</th>\n",
              "      <td>RandomForestClassifier</td>\n",
              "      <td>0.983533</td>\n",
              "      <td>0.811659</td>\n",
              "      <td>0.968750</td>\n",
              "      <td>0.697674</td>\n",
              "      <td>0.988048</td>\n",
              "      <td>0.789474</td>\n",
              "      <td>0.978304</td>\n",
              "      <td>0.740741</td>\n",
              "      <td>0.984432</td>\n",
              "      <td>0.806301</td>\n",
              "      <td>0.244809</td>\n",
              "    </tr>\n",
              "    <tr>\n",
              "      <th>4</th>\n",
              "      <td>XGBClassifier</td>\n",
              "      <td>0.889222</td>\n",
              "      <td>0.838565</td>\n",
              "      <td>0.800781</td>\n",
              "      <td>0.732558</td>\n",
              "      <td>0.899123</td>\n",
              "      <td>0.828947</td>\n",
              "      <td>0.847107</td>\n",
              "      <td>0.777778</td>\n",
              "      <td>0.891607</td>\n",
              "      <td>0.836242</td>\n",
              "      <td>0.209664</td>\n",
              "    </tr>\n",
              "    <tr>\n",
              "      <th>5</th>\n",
              "      <td>LGBMClassifier</td>\n",
              "      <td>0.947605</td>\n",
              "      <td>0.843049</td>\n",
              "      <td>0.910156</td>\n",
              "      <td>0.767442</td>\n",
              "      <td>0.951020</td>\n",
              "      <td>0.814815</td>\n",
              "      <td>0.930140</td>\n",
              "      <td>0.790419</td>\n",
              "      <td>0.948323</td>\n",
              "      <td>0.836985</td>\n",
              "      <td>0.073416</td>\n",
              "    </tr>\n",
              "  </tbody>\n",
              "</table>\n",
              "</div>"
            ],
            "text/plain": [
              "                    Model  train_accuracy  ...   val_auc  total_time\n",
              "0      LogisticRegression        0.812874  ...  0.802117    0.052866\n",
              "1  DecisionTreeClassifier        0.983533  ...  0.798209    0.006100\n",
              "2    KNeighborsClassifier        0.815868  ...  0.691575    0.058126\n",
              "3  RandomForestClassifier        0.983533  ...  0.806301    0.244809\n",
              "4           XGBClassifier        0.889222  ...  0.836242    0.209664\n",
              "5          LGBMClassifier        0.947605  ...  0.836985    0.073416\n",
              "\n",
              "[6 rows x 12 columns]"
            ]
          },
          "metadata": {},
          "execution_count": 7
        }
      ]
    },
    {
      "cell_type": "code",
      "metadata": {
        "id": "YH1myNH4vR-1"
      },
      "source": [
        ""
      ],
      "execution_count": null,
      "outputs": []
    }
  ]
}